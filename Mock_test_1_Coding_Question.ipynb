{
 "cells": [
  {
   "cell_type": "markdown",
   "id": "19cfd377-ca3d-42ad-802c-f1d5d58be4a5",
   "metadata": {},
   "source": [
    "# Mock Test 1"
   ]
  },
  {
   "cell_type": "markdown",
   "id": "5a0c2142-8a34-4888-9c44-07d353e53d91",
   "metadata": {},
   "source": [
    "Q. Move Zero"
   ]
  },
  {
   "cell_type": "code",
   "execution_count": 1,
   "id": "1e10841d-52a4-43e6-ae3e-f106043651af",
   "metadata": {},
   "outputs": [],
   "source": [
    "def move_zero(arr):\n",
    "    count=0\n",
    "    for i in range(len(arr)):\n",
    "        if arr[i]==0:\n",
    "            count+=1\n",
    "        else:\n",
    "            arr[i-count]=arr[i]\n",
    "    j=len(arr)-1\n",
    "    while count>0:\n",
    "        arr[j]=0\n",
    "        j-=1\n",
    "        count-=1\n",
    "    return(arr)"
   ]
  },
  {
   "cell_type": "code",
   "execution_count": 2,
   "id": "5e40d5fe-7f23-4679-a522-60a3670c71d1",
   "metadata": {},
   "outputs": [
    {
     "data": {
      "text/plain": [
       "[1, 3, 12, 0, 0]"
      ]
     },
     "execution_count": 2,
     "metadata": {},
     "output_type": "execute_result"
    }
   ],
   "source": [
    "move_zero([0,1,0,3,12])"
   ]
  },
  {
   "cell_type": "code",
   "execution_count": 3,
   "id": "ad10ef40-41c4-4bb4-8aaa-89efb4d1dd2c",
   "metadata": {},
   "outputs": [
    {
     "data": {
      "text/plain": [
       "[0]"
      ]
     },
     "execution_count": 3,
     "metadata": {},
     "output_type": "execute_result"
    }
   ],
   "source": [
    "move_zero([0])"
   ]
  },
  {
   "cell_type": "code",
   "execution_count": null,
   "id": "24767ef9-7f1f-4029-8b8a-cb3f2ee59c69",
   "metadata": {},
   "outputs": [],
   "source": []
  }
 ],
 "metadata": {
  "kernelspec": {
   "display_name": "Python 3 (ipykernel)",
   "language": "python",
   "name": "python3"
  },
  "language_info": {
   "codemirror_mode": {
    "name": "ipython",
    "version": 3
   },
   "file_extension": ".py",
   "mimetype": "text/x-python",
   "name": "python",
   "nbconvert_exporter": "python",
   "pygments_lexer": "ipython3",
   "version": "3.10.8"
  }
 },
 "nbformat": 4,
 "nbformat_minor": 5
}

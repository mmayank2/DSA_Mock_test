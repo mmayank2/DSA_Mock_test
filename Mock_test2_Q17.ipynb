{
 "cells": [
  {
   "cell_type": "code",
   "execution_count": 1,
   "id": "b62603e6-457f-4515-9aa0-92649ceb060c",
   "metadata": {},
   "outputs": [],
   "source": [
    "# PPT MOCK TEST-2\n",
    "# Q"
   ]
  },
  {
   "cell_type": "code",
   "execution_count": 2,
   "id": "6b31dc41-45f3-4c3e-b5f9-57a55ef96f77",
   "metadata": {},
   "outputs": [],
   "source": [
    "def even_no(list):\n",
    "    return [i for i in list if i%2==0]"
   ]
  },
  {
   "cell_type": "code",
   "execution_count": 3,
   "id": "21617605-33bc-4420-86a3-adaf5bed1880",
   "metadata": {},
   "outputs": [
    {
     "data": {
      "text/plain": [
       "[2, 4, 6, 8, 10]"
      ]
     },
     "execution_count": 3,
     "metadata": {},
     "output_type": "execute_result"
    }
   ],
   "source": [
    "even_no([1,2,3,4,5,6,7,8,9,10])"
   ]
  },
  {
   "cell_type": "code",
   "execution_count": null,
   "id": "ae9bec36-56e0-435b-af16-aa4e29d5bcc0",
   "metadata": {},
   "outputs": [],
   "source": []
  }
 ],
 "metadata": {
  "kernelspec": {
   "display_name": "Python 3 (ipykernel)",
   "language": "python",
   "name": "python3"
  },
  "language_info": {
   "codemirror_mode": {
    "name": "ipython",
    "version": 3
   },
   "file_extension": ".py",
   "mimetype": "text/x-python",
   "name": "python",
   "nbconvert_exporter": "python",
   "pygments_lexer": "ipython3",
   "version": "3.10.8"
  }
 },
 "nbformat": 4,
 "nbformat_minor": 5
}

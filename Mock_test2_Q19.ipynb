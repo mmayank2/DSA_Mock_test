{
 "cells": [
  {
   "cell_type": "code",
   "execution_count": 1,
   "id": "46a7c213-913e-4161-b8a5-9d2ae6a4adbd",
   "metadata": {},
   "outputs": [],
   "source": [
    "# Mock test 2 \n",
    "# Q19"
   ]
  },
  {
   "cell_type": "markdown",
   "id": "8462d8b2-4c56-4da4-b190-54609d109f13",
   "metadata": {},
   "source": [
    "data = [10, 15, 20, 25, 30]\n",
    "mean_value = calculate_mean(data)\n",
    "print(\"Mean:\", mean_value)\n"
   ]
  },
  {
   "cell_type": "code",
   "execution_count": 4,
   "id": "035c598b-b193-4834-a97e-73c882e3d614",
   "metadata": {},
   "outputs": [
    {
     "name": "stdout",
     "output_type": "stream",
     "text": [
      "Mean: 20.0\n"
     ]
    }
   ],
   "source": [
    "data = [10, 15, 20, 25, 30]\n",
    "mean_value = calculate_mean(data)\n",
    "print(\"Mean:\", mean_value)\n"
   ]
  },
  {
   "cell_type": "code",
   "execution_count": 3,
   "id": "df533ad9-c870-4c79-a93a-8c36d42ec24c",
   "metadata": {},
   "outputs": [],
   "source": [
    "def calculate_mean(numbers):\n",
    "    if not numbers:\n",
    "        return None\n",
    "    total_sum = sum(numbers)\n",
    "    count = len(numbers)\n",
    "    mean = total_sum / count\n",
    "    return mean"
   ]
  },
  {
   "cell_type": "code",
   "execution_count": null,
   "id": "0216d6f8-bb68-4a90-9b0a-d0a7e34e57f8",
   "metadata": {},
   "outputs": [],
   "source": []
  },
  {
   "cell_type": "code",
   "execution_count": null,
   "id": "d4f0d1b8-6b4d-4a81-b12b-a63ca0fd711c",
   "metadata": {},
   "outputs": [],
   "source": []
  },
  {
   "cell_type": "code",
   "execution_count": null,
   "id": "650ef814-8d7e-440b-8542-54112e30fec5",
   "metadata": {},
   "outputs": [],
   "source": []
  }
 ],
 "metadata": {
  "kernelspec": {
   "display_name": "Python 3 (ipykernel)",
   "language": "python",
   "name": "python3"
  },
  "language_info": {
   "codemirror_mode": {
    "name": "ipython",
    "version": 3
   },
   "file_extension": ".py",
   "mimetype": "text/x-python",
   "name": "python",
   "nbconvert_exporter": "python",
   "pygments_lexer": "ipython3",
   "version": "3.10.8"
  }
 },
 "nbformat": 4,
 "nbformat_minor": 5
}

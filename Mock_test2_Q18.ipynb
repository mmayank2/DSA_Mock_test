{
 "cells": [
  {
   "cell_type": "code",
   "execution_count": 1,
   "id": "94aa33a8-9aa0-4548-bf7e-7e242a745f0c",
   "metadata": {},
   "outputs": [],
   "source": [
    "# Mock test2\n",
    "# Q18."
   ]
  },
  {
   "cell_type": "code",
   "execution_count": 3,
   "id": "5e0f4231-a230-435d-a3be-a28be5ad65f0",
   "metadata": {},
   "outputs": [],
   "source": [
    "import time as t\n",
    "def timer(function):\n",
    "    def inner_deco():\n",
    "        s=t.time()\n",
    "        function()\n",
    "        e=t.time()\n",
    "        print(\"Execution time:\",e-s,\" \")\n",
    "    return inner_deco"
   ]
  },
  {
   "cell_type": "code",
   "execution_count": 4,
   "id": "7fe35c6d-0029-49c3-a4c0-639d91e202ce",
   "metadata": {},
   "outputs": [],
   "source": [
    "@timer\n",
    "def my_function():\n",
    "    t.sleep(2)"
   ]
  },
  {
   "cell_type": "code",
   "execution_count": 5,
   "id": "304f1a79-0528-435e-8411-89a645e6c416",
   "metadata": {},
   "outputs": [
    {
     "name": "stdout",
     "output_type": "stream",
     "text": [
      "Execution time: 2.0020575523376465\n"
     ]
    }
   ],
   "source": [
    "my_function()"
   ]
  },
  {
   "cell_type": "code",
   "execution_count": null,
   "id": "63a57bd3-546a-4171-b3fc-8298040ff46d",
   "metadata": {},
   "outputs": [],
   "source": []
  }
 ],
 "metadata": {
  "kernelspec": {
   "display_name": "Python 3 (ipykernel)",
   "language": "python",
   "name": "python3"
  },
  "language_info": {
   "codemirror_mode": {
    "name": "ipython",
    "version": 3
   },
   "file_extension": ".py",
   "mimetype": "text/x-python",
   "name": "python",
   "nbconvert_exporter": "python",
   "pygments_lexer": "ipython3",
   "version": "3.10.8"
  }
 },
 "nbformat": 4,
 "nbformat_minor": 5
}

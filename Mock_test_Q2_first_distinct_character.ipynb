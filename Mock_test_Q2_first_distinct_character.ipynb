{
 "cells": [
  {
   "cell_type": "markdown",
   "id": "c0c463c8-1bbf-447d-b578-e20cc01c3884",
   "metadata": {},
   "source": [
    "# Mock Test 1"
   ]
  },
  {
   "cell_type": "markdown",
   "id": "93f71205-ff0a-42bc-bb20-e1c1d4085335",
   "metadata": {},
   "source": [
    "Q. First Distinct character"
   ]
  },
  {
   "cell_type": "code",
   "execution_count": 1,
   "id": "d04d93e0-d649-4b07-b150-c5dd21b46a53",
   "metadata": {},
   "outputs": [],
   "source": [
    "def First_distinct_char(s):\n",
    "    for i in range(len(s)):\n",
    "        count=0\n",
    "        for j in range(len(s)):\n",
    "            if s[i]==s[j]:\n",
    "                count+=1\n",
    "        if count==1:\n",
    "            return i\n",
    "    return -1"
   ]
  },
  {
   "cell_type": "code",
   "execution_count": 2,
   "id": "4c23b968-578d-491c-9ad9-f60a8576addc",
   "metadata": {},
   "outputs": [
    {
     "data": {
      "text/plain": [
       "0"
      ]
     },
     "execution_count": 2,
     "metadata": {},
     "output_type": "execute_result"
    }
   ],
   "source": [
    "First_distinct_char(\"leetcode\")"
   ]
  },
  {
   "cell_type": "code",
   "execution_count": 3,
   "id": "51739c04-12ef-49c4-86c0-1d8df52255ef",
   "metadata": {},
   "outputs": [
    {
     "data": {
      "text/plain": [
       "2"
      ]
     },
     "execution_count": 3,
     "metadata": {},
     "output_type": "execute_result"
    }
   ],
   "source": [
    "First_distinct_char(\"loveleetcode\")"
   ]
  },
  {
   "cell_type": "code",
   "execution_count": 4,
   "id": "706cd4f0-bb65-48fe-ac5d-3b774615498d",
   "metadata": {},
   "outputs": [
    {
     "data": {
      "text/plain": [
       "-1"
      ]
     },
     "execution_count": 4,
     "metadata": {},
     "output_type": "execute_result"
    }
   ],
   "source": [
    "First_distinct_char(\"aabb\")"
   ]
  },
  {
   "cell_type": "code",
   "execution_count": null,
   "id": "6811d2f8-4a98-41bb-99bd-66a469981114",
   "metadata": {},
   "outputs": [],
   "source": []
  }
 ],
 "metadata": {
  "kernelspec": {
   "display_name": "Python 3 (ipykernel)",
   "language": "python",
   "name": "python3"
  },
  "language_info": {
   "codemirror_mode": {
    "name": "ipython",
    "version": 3
   },
   "file_extension": ".py",
   "mimetype": "text/x-python",
   "name": "python",
   "nbconvert_exporter": "python",
   "pygments_lexer": "ipython3",
   "version": "3.10.8"
  }
 },
 "nbformat": 4,
 "nbformat_minor": 5
}
